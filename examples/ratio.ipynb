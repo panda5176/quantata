{
 "cells": [
  {
   "cell_type": "code",
   "execution_count": 151,
   "metadata": {},
   "outputs": [],
   "source": [
    "import os, sys\n",
    "try:\n",
    "    from ..quantata.ratio import *\n",
    "except ImportError:\n",
    "    sys.path.append(os.path.dirname(os.path.abspath(\"./\")))\n",
    "    from quantata.ratio import *"
   ]
  },
  {
   "cell_type": "code",
   "execution_count": 152,
   "metadata": {},
   "outputs": [],
   "source": [
    "import pandas as pd\n",
    "import seaborn as sns\n",
    "import yfinance as yf\n",
    "from matplotlib import pyplot as plt\n",
    "from matplotlib.lines import Line2D"
   ]
  },
  {
   "cell_type": "code",
   "execution_count": 153,
   "metadata": {},
   "outputs": [
    {
     "name": "stdout",
     "output_type": "stream",
     "text": [
      "2022-06-25 00:00:00\n"
     ]
    }
   ],
   "source": [
    "ticker = yf.Ticker(\"AAPL\")\n",
    "closing_day = ticker.quarterly_financials.columns[0]\n",
    "next_day = ticker.quarterly_financials.columns[0] + pd.DateOffset(1)\n",
    "print(closing_day)"
   ]
  },
  {
   "cell_type": "code",
   "execution_count": 154,
   "metadata": {},
   "outputs": [],
   "source": [
    "share_price = ticker.history(start=closing_day.strftime(\"%Y-%m-%d\"), end=next_day.strftime(\"%Y-%m-%d\")).Close[0]\n",
    "share_count = ticker.info[\"sharesOutstanding\"]\n",
    "market_capital = share_price * share_count"
   ]
  },
  {
   "cell_type": "code",
   "execution_count": 155,
   "metadata": {},
   "outputs": [
    {
     "name": "stdout",
     "output_type": "stream",
     "text": [
      "116.9340441218046\n"
     ]
    }
   ],
   "source": [
    "net_income = ticker.quarterly_financials.loc[\"Net Income\"][0]\n",
    "pe_ratio = market_capital / net_income\n",
    "print(pe_ratio)"
   ]
  },
  {
   "cell_type": "code",
   "execution_count": 156,
   "metadata": {},
   "outputs": [
    {
     "name": "stdout",
     "output_type": "stream",
     "text": [
      "39.12491930087812\n"
     ]
    }
   ],
   "source": [
    "net_worth = ticker.quarterly_balancesheet.loc[\"Total Stockholder Equity\"][0]\n",
    "pb_ratio = market_capital / net_worth\n",
    "print(pb_ratio)"
   ]
  },
  {
   "cell_type": "code",
   "execution_count": 157,
   "metadata": {},
   "outputs": [
    {
     "name": "stdout",
     "output_type": "stream",
     "text": [
      "27.404280256706627\n"
     ]
    }
   ],
   "source": [
    "total_revenue = ticker.quarterly_financials.loc[\"Total Revenue\"][0]\n",
    "ps_ratio = market_capital / total_revenue\n",
    "print(ps_ratio)"
   ]
  },
  {
   "cell_type": "code",
   "execution_count": 158,
   "metadata": {},
   "outputs": [
    {
     "name": "stdout",
     "output_type": "stream",
     "text": [
      "99.31118669474598\n"
     ]
    }
   ],
   "source": [
    "operating_cashflow = ticker.quarterly_cashflow.loc[\"Total Cash From Operating Activities\"][0]\n",
    "pcf_ratio = market_capital / operating_cashflow\n",
    "print(pcf_ratio)"
   ]
  },
  {
   "cell_type": "code",
   "execution_count": 159,
   "metadata": {},
   "outputs": [],
   "source": [
    "total_debt = ticker.quarterly_balancesheet.loc[\"Total Liab\"][0]\n",
    "total_cash = ticker.quarterly_balancesheet.loc[\"Cash\"][0]\n",
    "enterprise_value = market_capital + total_debt - total_cash"
   ]
  },
  {
   "cell_type": "code",
   "execution_count": 160,
   "metadata": {},
   "outputs": [
    {
     "name": "stdout",
     "output_type": "stream",
     "text": [
      "109.38341505530096\n"
     ]
    }
   ],
   "source": [
    "earnings_before_interest = ticker.quarterly_financials.loc[\"Ebit\"][0]\n",
    "ev_ebit_ratio = enterprise_value / earnings_before_interest\n",
    "print(ev_ebit_ratio)"
   ]
  },
  {
   "cell_type": "code",
   "execution_count": 161,
   "metadata": {},
   "outputs": [
    {
     "name": "stdout",
     "output_type": "stream",
     "text": [
      "30.426254967105738\n"
     ]
    }
   ],
   "source": [
    "ev_sales_ratio = enterprise_value / total_revenue\n",
    "print(ev_sales_ratio)"
   ]
  },
  {
   "cell_type": "code",
   "execution_count": null,
   "metadata": {},
   "outputs": [],
   "source": []
  }
 ],
 "metadata": {
  "kernelspec": {
   "display_name": "Python 3.9.5 ('base')",
   "language": "python",
   "name": "python3"
  },
  "language_info": {
   "codemirror_mode": {
    "name": "ipython",
    "version": 3
   },
   "file_extension": ".py",
   "mimetype": "text/x-python",
   "name": "python",
   "nbconvert_exporter": "python",
   "pygments_lexer": "ipython3",
   "version": "3.9.5"
  },
  "orig_nbformat": 4,
  "vscode": {
   "interpreter": {
    "hash": "61ef1a210a4c201c0da086ba13991826059fc3add93c47632b28afe472417e30"
   }
  }
 },
 "nbformat": 4,
 "nbformat_minor": 2
}
