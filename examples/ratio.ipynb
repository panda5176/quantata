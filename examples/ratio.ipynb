{
 "cells": [
  {
   "cell_type": "code",
   "execution_count": 1,
   "metadata": {},
   "outputs": [],
   "source": [
    "import os, sys\n",
    "try:\n",
    "    from ..quantata.ratio import *\n",
    "except ImportError:\n",
    "    sys.path.append(os.path.dirname(os.path.abspath(\"./\")))\n",
    "    from quantata.ratio import *"
   ]
  },
  {
   "cell_type": "code",
   "execution_count": 2,
   "metadata": {},
   "outputs": [],
   "source": [
    "import pandas as pd\n",
    "import seaborn as sns\n",
    "import yfinance as yf\n",
    "from matplotlib import pyplot as plt\n",
    "from matplotlib.lines import Line2D"
   ]
  },
  {
   "cell_type": "code",
   "execution_count": 3,
   "metadata": {},
   "outputs": [],
   "source": [
    "ticker = yf.Ticker(\"AAPL\")"
   ]
  },
  {
   "cell_type": "code",
   "execution_count": 4,
   "metadata": {},
   "outputs": [
    {
     "name": "stdout",
     "output_type": "stream",
     "text": [
      "2022-06-25 00:00:00\n"
     ]
    }
   ],
   "source": [
    "closing_day = ticker.quarterly_financials.columns[0]\n",
    "next_day = ticker.quarterly_financials.columns[0] + pd.DateOffset(1)\n",
    "print(closing_day)"
   ]
  },
  {
   "cell_type": "code",
   "execution_count": 5,
   "metadata": {},
   "outputs": [],
   "source": [
    "share_price = ticker.history(start=closing_day.strftime(\"%Y-%m-%d\"), end=next_day.strftime(\"%Y-%m-%d\")).Close[0]\n",
    "share_count = ticker.info[\"sharesOutstanding\"]\n",
    "market_capital = share_price * share_count"
   ]
  },
  {
   "cell_type": "code",
   "execution_count": 6,
   "metadata": {},
   "outputs": [
    {
     "name": "stdout",
     "output_type": "stream",
     "text": [
      "119.37592749829622\n"
     ]
    }
   ],
   "source": [
    "net_income = ticker.quarterly_financials.loc[\"Net Income\"][0]\n",
    "pe_ratio = market_capital / net_income\n",
    "print(pe_ratio)"
   ]
  },
  {
   "cell_type": "code",
   "execution_count": 7,
   "metadata": {},
   "outputs": [
    {
     "name": "stdout",
     "output_type": "stream",
     "text": [
      "39.94194817185322\n"
     ]
    }
   ],
   "source": [
    "net_worth = ticker.quarterly_balancesheet.loc[\"Total Stockholder Equity\"][0]\n",
    "pb_ratio = market_capital / net_worth\n",
    "print(pb_ratio)"
   ]
  },
  {
   "cell_type": "code",
   "execution_count": 8,
   "metadata": {},
   "outputs": [
    {
     "name": "stdout",
     "output_type": "stream",
     "text": [
      "27.976552060920152\n"
     ]
    }
   ],
   "source": [
    "total_revenue = ticker.quarterly_financials.loc[\"Total Revenue\"][0]\n",
    "ps_ratio = market_capital / total_revenue\n",
    "print(ps_ratio)"
   ]
  },
  {
   "cell_type": "code",
   "execution_count": 9,
   "metadata": {},
   "outputs": [
    {
     "name": "stdout",
     "output_type": "stream",
     "text": [
      "101.38505951519636\n"
     ]
    }
   ],
   "source": [
    "operating_cashflow = ticker.quarterly_cashflow.loc[\"Total Cash From Operating Activities\"][0]\n",
    "pcf_ratio = market_capital / operating_cashflow\n",
    "print(pcf_ratio)"
   ]
  },
  {
   "cell_type": "code",
   "execution_count": 10,
   "metadata": {},
   "outputs": [],
   "source": [
    "total_liabilities = ticker.quarterly_balancesheet.loc[\"Total Liab\"][0]\n",
    "total_cash = ticker.quarterly_balancesheet.loc[\"Cash\"][0]\n",
    "enterprise_value = market_capital + total_liabilities - total_cash"
   ]
  },
  {
   "cell_type": "code",
   "execution_count": 11,
   "metadata": {},
   "outputs": [
    {
     "name": "stdout",
     "output_type": "stream",
     "text": [
      "111.44075153500931\n"
     ]
    }
   ],
   "source": [
    "earnings_before_interest = ticker.quarterly_financials.loc[\"Ebit\"][0]\n",
    "ev_ebit_ratio = enterprise_value / earnings_before_interest\n",
    "print(ev_ebit_ratio)"
   ]
  },
  {
   "cell_type": "code",
   "execution_count": 12,
   "metadata": {},
   "outputs": [
    {
     "name": "stdout",
     "output_type": "stream",
     "text": [
      "30.998526771319266\n"
     ]
    }
   ],
   "source": [
    "ev_sales_ratio = enterprise_value / total_revenue\n",
    "print(ev_sales_ratio)"
   ]
  },
  {
   "cell_type": "code",
   "execution_count": 13,
   "metadata": {},
   "outputs": [
    {
     "name": "stdout",
     "output_type": "stream",
     "text": [
      "0.057809930748210725\n"
     ]
    }
   ],
   "source": [
    "total_assets = ticker.quarterly_balancesheet.loc[\"Total Assets\"][0]\n",
    "roa_ratio = net_income / total_assets\n",
    "print(roa_ratio)"
   ]
  },
  {
   "cell_type": "code",
   "execution_count": 14,
   "metadata": {},
   "outputs": [
    {
     "name": "stdout",
     "output_type": "stream",
     "text": [
      "0.3345896363605073\n"
     ]
    }
   ],
   "source": [
    "roe_ratio = net_income / net_worth\n",
    "print(roe_ratio)"
   ]
  },
  {
   "cell_type": "code",
   "execution_count": 15,
   "metadata": {},
   "outputs": [
    {
     "name": "stdout",
     "output_type": "stream",
     "text": [
      "0.1067024670764089\n"
     ]
    }
   ],
   "source": [
    "gross_profit = ticker.quarterly_financials.loc[\"Gross Profit\"][0]\n",
    "gpa_ratio = gross_profit / total_assets\n",
    "print(gpa_ratio)"
   ]
  },
  {
   "cell_type": "code",
   "execution_count": 16,
   "metadata": {},
   "outputs": [
    {
     "name": "stdout",
     "output_type": "stream",
     "text": [
      "0.8272213946103137\n"
     ]
    }
   ],
   "source": [
    "la_ratio = total_liabilities / total_assets\n",
    "print(la_ratio)"
   ]
  },
  {
   "cell_type": "code",
   "execution_count": 17,
   "metadata": {},
   "outputs": [
    {
     "name": "stdout",
     "output_type": "stream",
     "text": [
      "-0.22263094762095162 0.649161310550243\n"
     ]
    }
   ],
   "source": [
    "net_income_before_1q = ticker.quarterly_financials.loc[\"Net Income\"][1]\n",
    "net_income_1y = ticker.financials.loc[\"Net Income\"][0]\n",
    "net_income_before_1y = ticker.financials.loc[\"Net Income\"][1]\n",
    "income_growth_1q = (net_income - net_income_before_1q) / net_income_before_1q\n",
    "income_growth_1y = (net_income_1y - net_income_before_1y) / net_income_before_1y\n",
    "print(income_growth_1q, income_growth_1y)"
   ]
  },
  {
   "cell_type": "code",
   "execution_count": 18,
   "metadata": {},
   "outputs": [
    {
     "name": "stdout",
     "output_type": "stream",
     "text": [
      "-0.14719669401097885 0.33259384733074693\n"
     ]
    }
   ],
   "source": [
    "total_revenue_before_1q = ticker.quarterly_financials.loc[\"Total Revenue\"][1]\n",
    "total_revenue_1y = ticker.financials.loc[\"Total Revenue\"][0]\n",
    "total_revenue_before_1y = ticker.financials.loc[\"Total Revenue\"][1]\n",
    "revenue_growth_1q = (total_revenue - total_revenue_before_1q) / total_revenue_before_1q\n",
    "revenue_growth_1y = (total_revenue_1y - total_revenue_before_1y) / total_revenue_before_1y\n",
    "print(revenue_growth_1q, revenue_growth_1y)"
   ]
  },
  {
   "cell_type": "code",
   "execution_count": 19,
   "metadata": {},
   "outputs": [
    {
     "name": "stdout",
     "output_type": "stream",
     "text": [
      "-0.04093115307618162 0.08371412340068171\n"
     ]
    }
   ],
   "source": [
    "total_assets_before_1q = ticker.quarterly_balancesheet.loc[\"Total Assets\"][1]\n",
    "total_assets_1y = ticker.balancesheet.loc[\"Total Assets\"][0]\n",
    "total_assets_before_1y = ticker.balancesheet.loc[\"Total Assets\"][1]\n",
    "assets_growth_1q = (total_assets - total_assets_before_1q) / total_assets_before_1q\n",
    "assets_growth_1y = (total_assets_1y - total_assets_before_1y) / total_assets_before_1y\n",
    "print(assets_growth_1q, assets_growth_1y)"
   ]
  },
  {
   "cell_type": "code",
   "execution_count": 20,
   "metadata": {},
   "outputs": [
    {
     "name": "stdout",
     "output_type": "stream",
     "text": [
      "0.24667493287423173\n"
     ]
    }
   ],
   "source": [
    "turnover_ratio = total_revenue / total_assets\n",
    "print(turnover_ratio)"
   ]
  },
  {
   "cell_type": "code",
   "execution_count": 21,
   "metadata": {},
   "outputs": [
    {
     "name": "stdout",
     "output_type": "stream",
     "text": [
      "0.4325630733253776 0.2781615014645789 0.2343567304331055\n"
     ]
    }
   ],
   "source": [
    "operating_income = ticker.quarterly_financials.loc[\"Operating Income\"][0]\n",
    "gross_margin = gross_profit / total_revenue\n",
    "gross_operating_margin = operating_income / total_revenue\n",
    "net_profit_margin = net_income / total_revenue\n",
    "print(gross_margin, gross_operating_margin, net_profit_margin)"
   ]
  },
  {
   "cell_type": "code",
   "execution_count": 22,
   "metadata": {},
   "outputs": [
    {
     "name": "stdout",
     "output_type": "stream",
     "text": [
      "0.11178282857641109\n"
     ]
    }
   ],
   "source": [
    "current_liabilities = ticker.quarterly_balancesheet.loc[\"Total Current Liabilities\"][0]\n",
    "employed_capital = total_assets - current_liabilities\n",
    "roc = earnings_before_interest / employed_capital\n",
    "print(roc)"
   ]
  },
  {
   "cell_type": "code",
   "execution_count": null,
   "metadata": {},
   "outputs": [],
   "source": []
  }
 ],
 "metadata": {
  "kernelspec": {
   "display_name": "Python 3.9.5 ('base')",
   "language": "python",
   "name": "python3"
  },
  "language_info": {
   "codemirror_mode": {
    "name": "ipython",
    "version": 3
   },
   "file_extension": ".py",
   "mimetype": "text/x-python",
   "name": "python",
   "nbconvert_exporter": "python",
   "pygments_lexer": "ipython3",
   "version": "3.9.5"
  },
  "orig_nbformat": 4,
  "vscode": {
   "interpreter": {
    "hash": "61ef1a210a4c201c0da086ba13991826059fc3add93c47632b28afe472417e30"
   }
  }
 },
 "nbformat": 4,
 "nbformat_minor": 2
}
